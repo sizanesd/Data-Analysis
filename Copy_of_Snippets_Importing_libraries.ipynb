{
  "cells": [
    {
      "cell_type": "markdown",
      "metadata": {
        "id": "view-in-github",
        "colab_type": "text"
      },
      "source": [
        "<a href=\"https://colab.research.google.com/github/sizanesd/Data-Analysis/blob/master/Copy_of_Snippets_Importing_libraries.ipynb\" target=\"_parent\"><img src=\"https://colab.research.google.com/assets/colab-badge.svg\" alt=\"Open In Colab\"/></a>"
      ]
    },
    {
      "cell_type": "markdown",
      "metadata": {
        "id": "kDn_lVxg3Z2G"
      },
      "source": [
        "# Importing a library that is not in Colaboratory\n",
        "\n",
        "To import a library that's not in Colaboratory by default, you can use `!pip install` or `!apt-get install`."
      ]
    },
    {
      "cell_type": "code",
      "source": [
        "import pandas as pd\n",
        "import matplotlib.pyplot as plt\n",
        "import seaborn as sns\n",
        "from sklearn.model_selection import train_test_split\n",
        "from sklearn.preprocessing import StandardScaler, OneHotEncoder\n",
        "from sklearn.compose import ColumnTransformer"
      ],
      "metadata": {
        "id": "Sl0xeiEDm3jo"
      },
      "execution_count": null,
      "outputs": []
    },
    {
      "cell_type": "code",
      "source": [
        "data = pd.read_csv('Inca_Tribe_House_Prices.csv')\n"
      ],
      "metadata": {
        "id": "zoNPrHF1m3gm"
      },
      "execution_count": null,
      "outputs": []
    },
    {
      "cell_type": "code",
      "source": [
        "data.head()"
      ],
      "metadata": {
        "id": "eV99vgX_m3de",
        "outputId": "85f55682-7d13-46f4-8015-2d242332a289",
        "colab": {
          "base_uri": "https://localhost:8080/",
          "height": 275
        }
      },
      "execution_count": null,
      "outputs": [
        {
          "output_type": "execute_result",
          "data": {
            "text/plain": [
              "                Type     Price  Bedrooms  Bathrooms  Area Furnished    Level  \\\n",
              "0             Chalet     70000       2.0        2.0  10.0       Yes  Unknown   \n",
              "1          Apartment   1500000       3.0        3.0  10.0        No        4   \n",
              "2  Stand Alone Villa  29000000       5.0        6.0  11.0        No  Unknown   \n",
              "3             Chalet   3000000       2.0        2.0  12.0        No   Ground   \n",
              "4          Apartment   1128000       3.0        2.0  14.0        No        3   \n",
              "\n",
              "        Compound   Payment_Option  Delivery_Date Delivery_Term  \\\n",
              "0  Fanar De Luna             Cash  Ready to move      Finished   \n",
              "1        Unknown  Unknown Payment  Ready to move      Unknown    \n",
              "2         Mivida             Cash  Ready to move  Core & Shell   \n",
              "3       Marina 5             Cash  Ready to move      Finished   \n",
              "4  Beit Al Watan      Installment           soon      Unknown    \n",
              "\n",
              "                   City  \n",
              "0            Ain Sukhna  \n",
              "1  New Hut - El Tagamoa  \n",
              "2  New Hut - El Tagamoa  \n",
              "3           North Coast  \n",
              "4  New Hut - El Tagamoa  "
            ],
            "text/html": [
              "\n",
              "  <div id=\"df-b53c35d7-9043-447b-97aa-00b231938fa7\" class=\"colab-df-container\">\n",
              "    <div>\n",
              "<style scoped>\n",
              "    .dataframe tbody tr th:only-of-type {\n",
              "        vertical-align: middle;\n",
              "    }\n",
              "\n",
              "    .dataframe tbody tr th {\n",
              "        vertical-align: top;\n",
              "    }\n",
              "\n",
              "    .dataframe thead th {\n",
              "        text-align: right;\n",
              "    }\n",
              "</style>\n",
              "<table border=\"1\" class=\"dataframe\">\n",
              "  <thead>\n",
              "    <tr style=\"text-align: right;\">\n",
              "      <th></th>\n",
              "      <th>Type</th>\n",
              "      <th>Price</th>\n",
              "      <th>Bedrooms</th>\n",
              "      <th>Bathrooms</th>\n",
              "      <th>Area</th>\n",
              "      <th>Furnished</th>\n",
              "      <th>Level</th>\n",
              "      <th>Compound</th>\n",
              "      <th>Payment_Option</th>\n",
              "      <th>Delivery_Date</th>\n",
              "      <th>Delivery_Term</th>\n",
              "      <th>City</th>\n",
              "    </tr>\n",
              "  </thead>\n",
              "  <tbody>\n",
              "    <tr>\n",
              "      <th>0</th>\n",
              "      <td>Chalet</td>\n",
              "      <td>70000</td>\n",
              "      <td>2.0</td>\n",
              "      <td>2.0</td>\n",
              "      <td>10.0</td>\n",
              "      <td>Yes</td>\n",
              "      <td>Unknown</td>\n",
              "      <td>Fanar De Luna</td>\n",
              "      <td>Cash</td>\n",
              "      <td>Ready to move</td>\n",
              "      <td>Finished</td>\n",
              "      <td>Ain Sukhna</td>\n",
              "    </tr>\n",
              "    <tr>\n",
              "      <th>1</th>\n",
              "      <td>Apartment</td>\n",
              "      <td>1500000</td>\n",
              "      <td>3.0</td>\n",
              "      <td>3.0</td>\n",
              "      <td>10.0</td>\n",
              "      <td>No</td>\n",
              "      <td>4</td>\n",
              "      <td>Unknown</td>\n",
              "      <td>Unknown Payment</td>\n",
              "      <td>Ready to move</td>\n",
              "      <td>Unknown</td>\n",
              "      <td>New Hut - El Tagamoa</td>\n",
              "    </tr>\n",
              "    <tr>\n",
              "      <th>2</th>\n",
              "      <td>Stand Alone Villa</td>\n",
              "      <td>29000000</td>\n",
              "      <td>5.0</td>\n",
              "      <td>6.0</td>\n",
              "      <td>11.0</td>\n",
              "      <td>No</td>\n",
              "      <td>Unknown</td>\n",
              "      <td>Mivida</td>\n",
              "      <td>Cash</td>\n",
              "      <td>Ready to move</td>\n",
              "      <td>Core &amp; Shell</td>\n",
              "      <td>New Hut - El Tagamoa</td>\n",
              "    </tr>\n",
              "    <tr>\n",
              "      <th>3</th>\n",
              "      <td>Chalet</td>\n",
              "      <td>3000000</td>\n",
              "      <td>2.0</td>\n",
              "      <td>2.0</td>\n",
              "      <td>12.0</td>\n",
              "      <td>No</td>\n",
              "      <td>Ground</td>\n",
              "      <td>Marina 5</td>\n",
              "      <td>Cash</td>\n",
              "      <td>Ready to move</td>\n",
              "      <td>Finished</td>\n",
              "      <td>North Coast</td>\n",
              "    </tr>\n",
              "    <tr>\n",
              "      <th>4</th>\n",
              "      <td>Apartment</td>\n",
              "      <td>1128000</td>\n",
              "      <td>3.0</td>\n",
              "      <td>2.0</td>\n",
              "      <td>14.0</td>\n",
              "      <td>No</td>\n",
              "      <td>3</td>\n",
              "      <td>Beit Al Watan</td>\n",
              "      <td>Installment</td>\n",
              "      <td>soon</td>\n",
              "      <td>Unknown</td>\n",
              "      <td>New Hut - El Tagamoa</td>\n",
              "    </tr>\n",
              "  </tbody>\n",
              "</table>\n",
              "</div>\n",
              "    <div class=\"colab-df-buttons\">\n",
              "\n",
              "  <div class=\"colab-df-container\">\n",
              "    <button class=\"colab-df-convert\" onclick=\"convertToInteractive('df-b53c35d7-9043-447b-97aa-00b231938fa7')\"\n",
              "            title=\"Convert this dataframe to an interactive table.\"\n",
              "            style=\"display:none;\">\n",
              "\n",
              "  <svg xmlns=\"http://www.w3.org/2000/svg\" height=\"24px\" viewBox=\"0 -960 960 960\">\n",
              "    <path d=\"M120-120v-720h720v720H120Zm60-500h600v-160H180v160Zm220 220h160v-160H400v160Zm0 220h160v-160H400v160ZM180-400h160v-160H180v160Zm440 0h160v-160H620v160ZM180-180h160v-160H180v160Zm440 0h160v-160H620v160Z\"/>\n",
              "  </svg>\n",
              "    </button>\n",
              "\n",
              "  <style>\n",
              "    .colab-df-container {\n",
              "      display:flex;\n",
              "      gap: 12px;\n",
              "    }\n",
              "\n",
              "    .colab-df-convert {\n",
              "      background-color: #E8F0FE;\n",
              "      border: none;\n",
              "      border-radius: 50%;\n",
              "      cursor: pointer;\n",
              "      display: none;\n",
              "      fill: #1967D2;\n",
              "      height: 32px;\n",
              "      padding: 0 0 0 0;\n",
              "      width: 32px;\n",
              "    }\n",
              "\n",
              "    .colab-df-convert:hover {\n",
              "      background-color: #E2EBFA;\n",
              "      box-shadow: 0px 1px 2px rgba(60, 64, 67, 0.3), 0px 1px 3px 1px rgba(60, 64, 67, 0.15);\n",
              "      fill: #174EA6;\n",
              "    }\n",
              "\n",
              "    .colab-df-buttons div {\n",
              "      margin-bottom: 4px;\n",
              "    }\n",
              "\n",
              "    [theme=dark] .colab-df-convert {\n",
              "      background-color: #3B4455;\n",
              "      fill: #D2E3FC;\n",
              "    }\n",
              "\n",
              "    [theme=dark] .colab-df-convert:hover {\n",
              "      background-color: #434B5C;\n",
              "      box-shadow: 0px 1px 3px 1px rgba(0, 0, 0, 0.15);\n",
              "      filter: drop-shadow(0px 1px 2px rgba(0, 0, 0, 0.3));\n",
              "      fill: #FFFFFF;\n",
              "    }\n",
              "  </style>\n",
              "\n",
              "    <script>\n",
              "      const buttonEl =\n",
              "        document.querySelector('#df-b53c35d7-9043-447b-97aa-00b231938fa7 button.colab-df-convert');\n",
              "      buttonEl.style.display =\n",
              "        google.colab.kernel.accessAllowed ? 'block' : 'none';\n",
              "\n",
              "      async function convertToInteractive(key) {\n",
              "        const element = document.querySelector('#df-b53c35d7-9043-447b-97aa-00b231938fa7');\n",
              "        const dataTable =\n",
              "          await google.colab.kernel.invokeFunction('convertToInteractive',\n",
              "                                                    [key], {});\n",
              "        if (!dataTable) return;\n",
              "\n",
              "        const docLinkHtml = 'Like what you see? Visit the ' +\n",
              "          '<a target=\"_blank\" href=https://colab.research.google.com/notebooks/data_table.ipynb>data table notebook</a>'\n",
              "          + ' to learn more about interactive tables.';\n",
              "        element.innerHTML = '';\n",
              "        dataTable['output_type'] = 'display_data';\n",
              "        await google.colab.output.renderOutput(dataTable, element);\n",
              "        const docLink = document.createElement('div');\n",
              "        docLink.innerHTML = docLinkHtml;\n",
              "        element.appendChild(docLink);\n",
              "      }\n",
              "    </script>\n",
              "  </div>\n",
              "\n",
              "\n",
              "<div id=\"df-e377dc2e-7f52-4745-98c5-0ffa64755561\">\n",
              "  <button class=\"colab-df-quickchart\" onclick=\"quickchart('df-e377dc2e-7f52-4745-98c5-0ffa64755561')\"\n",
              "            title=\"Suggest charts\"\n",
              "            style=\"display:none;\">\n",
              "\n",
              "<svg xmlns=\"http://www.w3.org/2000/svg\" height=\"24px\"viewBox=\"0 0 24 24\"\n",
              "     width=\"24px\">\n",
              "    <g>\n",
              "        <path d=\"M19 3H5c-1.1 0-2 .9-2 2v14c0 1.1.9 2 2 2h14c1.1 0 2-.9 2-2V5c0-1.1-.9-2-2-2zM9 17H7v-7h2v7zm4 0h-2V7h2v10zm4 0h-2v-4h2v4z\"/>\n",
              "    </g>\n",
              "</svg>\n",
              "  </button>\n",
              "\n",
              "<style>\n",
              "  .colab-df-quickchart {\n",
              "      --bg-color: #E8F0FE;\n",
              "      --fill-color: #1967D2;\n",
              "      --hover-bg-color: #E2EBFA;\n",
              "      --hover-fill-color: #174EA6;\n",
              "      --disabled-fill-color: #AAA;\n",
              "      --disabled-bg-color: #DDD;\n",
              "  }\n",
              "\n",
              "  [theme=dark] .colab-df-quickchart {\n",
              "      --bg-color: #3B4455;\n",
              "      --fill-color: #D2E3FC;\n",
              "      --hover-bg-color: #434B5C;\n",
              "      --hover-fill-color: #FFFFFF;\n",
              "      --disabled-bg-color: #3B4455;\n",
              "      --disabled-fill-color: #666;\n",
              "  }\n",
              "\n",
              "  .colab-df-quickchart {\n",
              "    background-color: var(--bg-color);\n",
              "    border: none;\n",
              "    border-radius: 50%;\n",
              "    cursor: pointer;\n",
              "    display: none;\n",
              "    fill: var(--fill-color);\n",
              "    height: 32px;\n",
              "    padding: 0;\n",
              "    width: 32px;\n",
              "  }\n",
              "\n",
              "  .colab-df-quickchart:hover {\n",
              "    background-color: var(--hover-bg-color);\n",
              "    box-shadow: 0 1px 2px rgba(60, 64, 67, 0.3), 0 1px 3px 1px rgba(60, 64, 67, 0.15);\n",
              "    fill: var(--button-hover-fill-color);\n",
              "  }\n",
              "\n",
              "  .colab-df-quickchart-complete:disabled,\n",
              "  .colab-df-quickchart-complete:disabled:hover {\n",
              "    background-color: var(--disabled-bg-color);\n",
              "    fill: var(--disabled-fill-color);\n",
              "    box-shadow: none;\n",
              "  }\n",
              "\n",
              "  .colab-df-spinner {\n",
              "    border: 2px solid var(--fill-color);\n",
              "    border-color: transparent;\n",
              "    border-bottom-color: var(--fill-color);\n",
              "    animation:\n",
              "      spin 1s steps(1) infinite;\n",
              "  }\n",
              "\n",
              "  @keyframes spin {\n",
              "    0% {\n",
              "      border-color: transparent;\n",
              "      border-bottom-color: var(--fill-color);\n",
              "      border-left-color: var(--fill-color);\n",
              "    }\n",
              "    20% {\n",
              "      border-color: transparent;\n",
              "      border-left-color: var(--fill-color);\n",
              "      border-top-color: var(--fill-color);\n",
              "    }\n",
              "    30% {\n",
              "      border-color: transparent;\n",
              "      border-left-color: var(--fill-color);\n",
              "      border-top-color: var(--fill-color);\n",
              "      border-right-color: var(--fill-color);\n",
              "    }\n",
              "    40% {\n",
              "      border-color: transparent;\n",
              "      border-right-color: var(--fill-color);\n",
              "      border-top-color: var(--fill-color);\n",
              "    }\n",
              "    60% {\n",
              "      border-color: transparent;\n",
              "      border-right-color: var(--fill-color);\n",
              "    }\n",
              "    80% {\n",
              "      border-color: transparent;\n",
              "      border-right-color: var(--fill-color);\n",
              "      border-bottom-color: var(--fill-color);\n",
              "    }\n",
              "    90% {\n",
              "      border-color: transparent;\n",
              "      border-bottom-color: var(--fill-color);\n",
              "    }\n",
              "  }\n",
              "</style>\n",
              "\n",
              "  <script>\n",
              "    async function quickchart(key) {\n",
              "      const quickchartButtonEl =\n",
              "        document.querySelector('#' + key + ' button');\n",
              "      quickchartButtonEl.disabled = true;  // To prevent multiple clicks.\n",
              "      quickchartButtonEl.classList.add('colab-df-spinner');\n",
              "      try {\n",
              "        const charts = await google.colab.kernel.invokeFunction(\n",
              "            'suggestCharts', [key], {});\n",
              "      } catch (error) {\n",
              "        console.error('Error during call to suggestCharts:', error);\n",
              "      }\n",
              "      quickchartButtonEl.classList.remove('colab-df-spinner');\n",
              "      quickchartButtonEl.classList.add('colab-df-quickchart-complete');\n",
              "    }\n",
              "    (() => {\n",
              "      let quickchartButtonEl =\n",
              "        document.querySelector('#df-e377dc2e-7f52-4745-98c5-0ffa64755561 button');\n",
              "      quickchartButtonEl.style.display =\n",
              "        google.colab.kernel.accessAllowed ? 'block' : 'none';\n",
              "    })();\n",
              "  </script>\n",
              "</div>\n",
              "\n",
              "    </div>\n",
              "  </div>\n"
            ],
            "application/vnd.google.colaboratory.intrinsic+json": {
              "type": "dataframe",
              "variable_name": "data",
              "summary": "{\n  \"name\": \"data\",\n  \"rows\": 27322,\n  \"fields\": [\n    {\n      \"column\": \"Type\",\n      \"properties\": {\n        \"dtype\": \"category\",\n        \"num_unique_values\": 10,\n        \"samples\": [\n          \"Penthouse\",\n          \"Apartment\",\n          \"Twin House\"\n        ],\n        \"semantic_type\": \"\",\n        \"description\": \"\"\n      }\n    },\n    {\n      \"column\": \"Price\",\n      \"properties\": {\n        \"dtype\": \"number\",\n        \"std\": 6766652,\n        \"min\": 30000,\n        \"max\": 240000000,\n        \"num_unique_values\": 4181,\n        \"samples\": [\n          3633000,\n          3354692,\n          3412275\n        ],\n        \"semantic_type\": \"\",\n        \"description\": \"\"\n      }\n    },\n    {\n      \"column\": \"Bedrooms\",\n      \"properties\": {\n        \"dtype\": \"number\",\n        \"std\": 1.2123406838524873,\n        \"min\": 1.0,\n        \"max\": 10.0,\n        \"num_unique_values\": 10,\n        \"samples\": [\n          9.0,\n          3.0,\n          6.0\n        ],\n        \"semantic_type\": \"\",\n        \"description\": \"\"\n      }\n    },\n    {\n      \"column\": \"Bathrooms\",\n      \"properties\": {\n        \"dtype\": \"number\",\n        \"std\": 1.354497572956123,\n        \"min\": 1.0,\n        \"max\": 10.0,\n        \"num_unique_values\": 10,\n        \"samples\": [\n          8.0,\n          3.0,\n          7.0\n        ],\n        \"semantic_type\": \"\",\n        \"description\": \"\"\n      }\n    },\n    {\n      \"column\": \"Area\",\n      \"properties\": {\n        \"dtype\": \"number\",\n        \"std\": 161.0479150395325,\n        \"min\": 10.0,\n        \"max\": 998.0,\n        \"num_unique_values\": 785,\n        \"samples\": [\n          900.0,\n          63.0,\n          207.0\n        ],\n        \"semantic_type\": \"\",\n        \"description\": \"\"\n      }\n    },\n    {\n      \"column\": \"Furnished\",\n      \"properties\": {\n        \"dtype\": \"category\",\n        \"num_unique_values\": 3,\n        \"samples\": [\n          \"Yes\",\n          \"No\",\n          \"Unknown\"\n        ],\n        \"semantic_type\": \"\",\n        \"description\": \"\"\n      }\n    },\n    {\n      \"column\": \"Level\",\n      \"properties\": {\n        \"dtype\": \"category\",\n        \"num_unique_values\": 14,\n        \"samples\": [\n          \"7\",\n          \"10\",\n          \"Unknown\"\n        ],\n        \"semantic_type\": \"\",\n        \"description\": \"\"\n      }\n    },\n    {\n      \"column\": \"Compound\",\n      \"properties\": {\n        \"dtype\": \"category\",\n        \"num_unique_values\": 560,\n        \"samples\": [\n          \"Lake West\",\n          \"Citystars AlSahel\",\n          \"Atic\"\n        ],\n        \"semantic_type\": \"\",\n        \"description\": \"\"\n      }\n    },\n    {\n      \"column\": \"Payment_Option\",\n      \"properties\": {\n        \"dtype\": \"category\",\n        \"num_unique_values\": 4,\n        \"samples\": [\n          \"Unknown Payment\",\n          \"Cash or Installment\",\n          \"Cash\"\n        ],\n        \"semantic_type\": \"\",\n        \"description\": \"\"\n      }\n    },\n    {\n      \"column\": \"Delivery_Date\",\n      \"properties\": {\n        \"dtype\": \"category\",\n        \"num_unique_values\": 10,\n        \"samples\": [\n          \"2022\",\n          \"soon\",\n          \"Unknown\"\n        ],\n        \"semantic_type\": \"\",\n        \"description\": \"\"\n      }\n    },\n    {\n      \"column\": \"Delivery_Term\",\n      \"properties\": {\n        \"dtype\": \"category\",\n        \"num_unique_values\": 5,\n        \"samples\": [\n          \"Unknown \",\n          \"Semi Finished\",\n          \"Core & Shell\"\n        ],\n        \"semantic_type\": \"\",\n        \"description\": \"\"\n      }\n    },\n    {\n      \"column\": \"City\",\n      \"properties\": {\n        \"dtype\": \"category\",\n        \"num_unique_values\": 179,\n        \"samples\": [\n          \"Hadayek al-Kobba\",\n          \"Ganoub District\",\n          \"Aswan City\"\n        ],\n        \"semantic_type\": \"\",\n        \"description\": \"\"\n      }\n    }\n  ]\n}"
            }
          },
          "metadata": {},
          "execution_count": 6
        }
      ]
    },
    {
      "cell_type": "code",
      "source": [
        "# Describe data\n",
        "def describe_data(data):\n",
        "    print(\"Data Description:\")\n",
        "    print(data.info())\n",
        "    print(\"\\nStatistical Summary:\")\n",
        "    print(data.describe(include='all'))"
      ],
      "metadata": {
        "id": "AzIz-l_PSvTf"
      },
      "execution_count": null,
      "outputs": []
    },
    {
      "cell_type": "code",
      "source": [
        "describe_data(data)"
      ],
      "metadata": {
        "id": "hsndL42-m3Yn",
        "outputId": "403598c0-650b-4345-b19b-f26391214ad7",
        "colab": {
          "base_uri": "https://localhost:8080/"
        }
      },
      "execution_count": null,
      "outputs": [
        {
          "output_type": "stream",
          "name": "stdout",
          "text": [
            "Data Description:\n",
            "<class 'pandas.core.frame.DataFrame'>\n",
            "RangeIndex: 27322 entries, 0 to 27321\n",
            "Data columns (total 12 columns):\n",
            " #   Column          Non-Null Count  Dtype  \n",
            "---  ------          --------------  -----  \n",
            " 0   Type            27322 non-null  object \n",
            " 1   Price           27322 non-null  int64  \n",
            " 2   Bedrooms        27119 non-null  float64\n",
            " 3   Bathrooms       27151 non-null  float64\n",
            " 4   Area            26851 non-null  float64\n",
            " 5   Furnished       27322 non-null  object \n",
            " 6   Level           27322 non-null  object \n",
            " 7   Compound        27322 non-null  object \n",
            " 8   Payment_Option  27322 non-null  object \n",
            " 9   Delivery_Date   27322 non-null  object \n",
            " 10  Delivery_Term   27322 non-null  object \n",
            " 11  City            27322 non-null  object \n",
            "dtypes: float64(3), int64(1), object(8)\n",
            "memory usage: 2.5+ MB\n",
            "None\n",
            "\n",
            "Statistical Summary:\n",
            "             Type         Price      Bedrooms     Bathrooms          Area  \\\n",
            "count       27322  2.732200e+04  27119.000000  27151.000000  26851.000000   \n",
            "unique         10           NaN           NaN           NaN           NaN   \n",
            "top     Apartment           NaN           NaN           NaN           NaN   \n",
            "freq         8506           NaN           NaN           NaN           NaN   \n",
            "mean          NaN  4.761822e+06      3.242044      2.811388    229.305711   \n",
            "std           NaN  6.766653e+06      1.212341      1.354498    161.047915   \n",
            "min           NaN  3.000000e+04      1.000000      1.000000     10.000000   \n",
            "25%           NaN  1.150000e+06      3.000000      2.000000    125.000000   \n",
            "50%           NaN  2.731000e+06      3.000000      3.000000    175.000000   \n",
            "75%           NaN  5.989000e+06      4.000000      3.000000    275.000000   \n",
            "max           NaN  2.400000e+08     10.000000     10.000000    998.000000   \n",
            "\n",
            "       Furnished    Level Compound       Payment_Option  Delivery_Date  \\\n",
            "count      27322    27322    27322                27322          27322   \n",
            "unique         3       14      560                    4             10   \n",
            "top           No  Unknown  Unknown  Cash or Installment  Ready to move   \n",
            "freq       16498    10400    11032                10840          12139   \n",
            "mean         NaN      NaN      NaN                  NaN            NaN   \n",
            "std          NaN      NaN      NaN                  NaN            NaN   \n",
            "min          NaN      NaN      NaN                  NaN            NaN   \n",
            "25%          NaN      NaN      NaN                  NaN            NaN   \n",
            "50%          NaN      NaN      NaN                  NaN            NaN   \n",
            "75%          NaN      NaN      NaN                  NaN            NaN   \n",
            "max          NaN      NaN      NaN                  NaN            NaN   \n",
            "\n",
            "       Delivery_Term                  City  \n",
            "count          27322                 27322  \n",
            "unique             5                   179  \n",
            "top         Finished  New Hut - El Tagamoa  \n",
            "freq           14374                  6789  \n",
            "mean             NaN                   NaN  \n",
            "std              NaN                   NaN  \n",
            "min              NaN                   NaN  \n",
            "25%              NaN                   NaN  \n",
            "50%              NaN                   NaN  \n",
            "75%              NaN                   NaN  \n",
            "max              NaN                   NaN  \n"
          ]
        }
      ]
    },
    {
      "cell_type": "code",
      "source": [
        "print(data['Type'].value_counts())"
      ],
      "metadata": {
        "id": "XfXGMJXUm3SX",
        "outputId": "741adf57-5dd9-4fc6-9e0a-4d241df360b4",
        "colab": {
          "base_uri": "https://localhost:8080/"
        }
      },
      "execution_count": null,
      "outputs": [
        {
          "output_type": "stream",
          "name": "stdout",
          "text": [
            "Type\n",
            "Apartment            8506\n",
            "Chalet               6593\n",
            "Stand Alone Villa    4629\n",
            "Town House           3073\n",
            "Twin House           1793\n",
            "Duplex                861\n",
            "Standalone Villa      608\n",
            "Penthouse             526\n",
            "Twin house            483\n",
            "Studio                250\n",
            "Name: count, dtype: int64\n"
          ]
        }
      ]
    },
    {
      "cell_type": "code",
      "source": [
        "print(data['Type'].value_counts())"
      ],
      "metadata": {
        "id": "ESQ_wvQzm3L3"
      },
      "execution_count": null,
      "outputs": []
    },
    {
      "cell_type": "code",
      "source": [
        "print(data['Price'].describe())"
      ],
      "metadata": {
        "id": "poE0hyzWm3Eo",
        "outputId": "654329f1-2e45-4ca7-eded-dad5fccd35fb",
        "colab": {
          "base_uri": "https://localhost:8080/"
        }
      },
      "execution_count": null,
      "outputs": [
        {
          "output_type": "stream",
          "name": "stdout",
          "text": [
            "count    2.732200e+04\n",
            "mean     4.761822e+06\n",
            "std      6.766653e+06\n",
            "min      3.000000e+04\n",
            "25%      1.150000e+06\n",
            "50%      2.731000e+06\n",
            "75%      5.989000e+06\n",
            "max      2.400000e+08\n",
            "Name: Price, dtype: float64\n"
          ]
        }
      ]
    },
    {
      "cell_type": "code",
      "source": [
        "def summarize_nulls(data):\n",
        "    null_counts = data.isnull().sum()\n",
        "    null_percentages = (null_counts / len(data)) * 100\n",
        "    null_summary = pd.DataFrame({'Null Count': null_counts, 'Null Percentage': null_percentages})\n",
        "    print(null_summary[null_summary['Null Count'] > 0])"
      ],
      "metadata": {
        "id": "DkZk3LAnm27w"
      },
      "execution_count": null,
      "outputs": []
    },
    {
      "cell_type": "code",
      "source": [
        "#Visualize Null Values\n",
        "#A heatmap can help you visualize the distribution of null values:\n",
        "\n",
        "def visualize_nulls(data):\n",
        "    plt.figure(figsize=(10, 6))\n",
        "    sns.heatmap(data.isnull(), cbar=False, cmap='viridis')\n",
        "    plt.title('Null Values Heatmap')\n",
        "    plt.xlabel('Columns')\n",
        "    plt.ylabel('Rows')\n",
        "    plt.show()"
      ],
      "metadata": {
        "id": "LcGzM5uiWIJX"
      },
      "execution_count": null,
      "outputs": []
    },
    {
      "cell_type": "code",
      "source": [
        "visualize_nulls(data)"
      ],
      "metadata": {
        "id": "7IhZSLnrZHLJ",
        "outputId": "7ccd980f-c97e-46e1-8c44-c743b2a124ff",
        "colab": {
          "base_uri": "https://localhost:8080/",
          "height": 664
        }
      },
      "execution_count": null,
      "outputs": [
        {
          "output_type": "display_data",
          "data": {
            "text/plain": [
              "<Figure size 1000x600 with 1 Axes>"
            ],
            "image/png": "[encoded data removed]"
          },
          "metadata": {}
        }
      ]
    },
    {
      "cell_type": "code",
      "source": [
        "def summarize_nulls(data):\n",
        "    null_counts = data.isnull().sum()  # Count null values\n",
        "    null_percentages = (null_counts / len(data)) * 100  # Calculate percentage\n",
        "    null_summary = pd.DataFrame({'Null Count': null_counts, 'Null Percentage': null_percentages})\n",
        "\n",
        "    # Display only columns with null values\n",
        "    print(null_summary[null_summary['Null Count'] > 0])"
      ],
      "metadata": {
        "id": "RurrFaiEZY7v"
      },
      "execution_count": null,
      "outputs": []
    },
    {
      "cell_type": "code",
      "source": [
        "summarize_nulls(data)"
      ],
      "metadata": {
        "colab": {
          "base_uri": "https://localhost:8080/"
        },
        "id": "M0sVyNlcZuJA",
        "outputId": "36396dbb-7e0a-4192-9348-551eb8dab26e"
      },
      "execution_count": null,
      "outputs": [
        {
          "output_type": "stream",
          "name": "stdout",
          "text": [
            "           Null Count  Null Percentage\n",
            "Bedrooms          203         0.742991\n",
            "Bathrooms         171         0.625869\n",
            "Area              471         1.723886\n"
          ]
        }
      ]
    },
    {
      "cell_type": "code",
      "source": [
        "# Function to impute null values with median\n",
        "def handle_missing_values(data, columns):\n",
        "    for column in columns:\n",
        "        if column in data.columns:\n",
        "            median_value = data[column].median()  # Calculate median\n",
        "            data[column].fillna(median_value, inplace=True)  # Fill nulls with median\n",
        "            print(f\"Filled nulls in '{column}' with median value: {median_value}\")\n",
        "    return data"
      ],
      "metadata": {
        "id": "cnmZiHfJaxUq"
      },
      "execution_count": null,
      "outputs": []
    },
    {
      "cell_type": "code",
      "source": [
        "# Specify the columns to impute\n",
        "columns_to_impute = ['Bedrooms', 'Bathrooms', 'Area']"
      ],
      "metadata": {
        "id": "doXCcS24a5j8"
      },
      "execution_count": null,
      "outputs": []
    },
    {
      "cell_type": "code",
      "source": [
        "# Apply the function\n",
        "data = handle_missing_values(data, columns_to_impute)"
      ],
      "metadata": {
        "id": "brvv39tQa9AO",
        "outputId": "a01ff27e-85ee-488d-de4a-a180f4189a84",
        "colab": {
          "base_uri": "https://localhost:8080/"
        }
      },
      "execution_count": null,
      "outputs": [
        {
          "output_type": "stream",
          "name": "stdout",
          "text": [
            "Filled nulls in 'Bedrooms' with median value: 3.0\n",
            "Filled nulls in 'Bathrooms' with median value: 3.0\n",
            "Filled nulls in 'Area' with median value: 175.0\n"
          ]
        },
        {
          "output_type": "stream",
          "name": "stderr",
          "text": [
            "<ipython-input-23-97e4c5b227b7>:6: FutureWarning: A value is trying to be set on a copy of a DataFrame or Series through chained assignment using an inplace method.\n",
            "The behavior will change in pandas 3.0. This inplace method will never work because the intermediate object on which we are setting values always behaves as a copy.\n",
            "\n",
            "For example, when doing 'df[col].method(value, inplace=True)', try using 'df.method({col: value}, inplace=True)' or df[col] = df[col].method(value) instead, to perform the operation inplace on the original object.\n",
            "\n",
            "\n",
            "  data[column].fillna(median_value, inplace=True)  # Fill nulls with median\n"
          ]
        }
      ]
    },
    {
      "cell_type": "code",
      "source": [
        "# Display the updated DataFrame\n",
        "print(data)"
      ],
      "metadata": {
        "id": "wtMY4OtzbFwQ",
        "outputId": "751a9add-a725-49bc-865d-8ae5715fa4ba",
        "colab": {
          "base_uri": "https://localhost:8080/"
        }
      },
      "execution_count": null,
      "outputs": [
        {
          "output_type": "stream",
          "name": "stdout",
          "text": [
            "                    Type      Price  Bedrooms  Bathrooms   Area Furnished  \\\n",
            "0                 Chalet      70000       2.0        2.0   10.0       Yes   \n",
            "1              Apartment    1500000       3.0        3.0   10.0        No   \n",
            "2      Stand Alone Villa   29000000       5.0        6.0   11.0        No   \n",
            "3                 Chalet    3000000       2.0        2.0   12.0        No   \n",
            "4              Apartment    1128000       3.0        2.0   14.0        No   \n",
            "...                  ...        ...       ...        ...    ...       ...   \n",
            "27317  Stand Alone Villa   65000000       3.0        3.0  175.0        No   \n",
            "27318  Stand Alone Villa   65000000       3.0        3.0  175.0        No   \n",
            "27319  Stand Alone Villa   69000000       3.0        3.0  175.0        No   \n",
            "27320  Stand Alone Villa   90000000       3.0        3.0  175.0        No   \n",
            "27321  Stand Alone Villa  100000000       3.0        3.0  175.0       Yes   \n",
            "\n",
            "         Level             Compound       Payment_Option  Delivery_Date  \\\n",
            "0      Unknown        Fanar De Luna                 Cash  Ready to move   \n",
            "1            4              Unknown      Unknown Payment  Ready to move   \n",
            "2      Unknown               Mivida                 Cash  Ready to move   \n",
            "3       Ground             Marina 5                 Cash  Ready to move   \n",
            "4            3        Beit Al Watan          Installment           soon   \n",
            "...        ...                  ...                  ...            ...   \n",
            "27317  Unknown       Katameya Dunes                 Cash  Ready to move   \n",
            "27318  Unknown              Unknown                 Cash  Ready to move   \n",
            "27319  Unknown  Hyde Park New Cairo  Cash or Installment           soon   \n",
            "27320  Unknown       Katameya Dunes                 Cash  Ready to move   \n",
            "27321  Unknown              Unknown                 Cash  Ready to move   \n",
            "\n",
            "       Delivery_Term                  City  \n",
            "0           Finished            Ain Sukhna  \n",
            "1           Unknown   New Hut - El Tagamoa  \n",
            "2       Core & Shell  New Hut - El Tagamoa  \n",
            "3           Finished           North Coast  \n",
            "4           Unknown   New Hut - El Tagamoa  \n",
            "...              ...                   ...  \n",
            "27317  Semi Finished  New Hut - El Tagamoa  \n",
            "27318       Finished  New Hut - El Tagamoa  \n",
            "27319   Not Finished  New Hut - El Tagamoa  \n",
            "27320  Semi Finished   (View phone number)  \n",
            "27321       Unknown   New Hut - El Tagamoa  \n",
            "\n",
            "[27322 rows x 12 columns]\n"
          ]
        }
      ]
    }
  ],
  "metadata": {
    "colab": {
      "provenance": [],
      "include_colab_link": true
    },
    "kernelspec": {
      "display_name": "Python 3",
      "name": "python3"
    }
  },
  "nbformat": 4,
  "nbformat_minor": 0
}